{
 "cells": [
  {
   "cell_type": "markdown",
   "id": "b51807c8",
   "metadata": {},
   "source": [
    "# module 1: basics of python and ethical hacking\n"
   ]
  },
  {
   "cell_type": "code",
   "execution_count": 6,
   "id": "29b88c4e",
   "metadata": {},
   "outputs": [
    {
     "name": "stdout",
     "output_type": "stream",
     "text": [
      "hello world!\n"
     ]
    }
   ],
   "source": [
    "print(\"hello world!\")\n"
   ]
  },
  {
   "cell_type": "markdown",
   "id": "a5b41b2c",
   "metadata": {},
   "source": [
    "# VARIABLES IN PYTHON"
   ]
  },
  {
   "cell_type": "markdown",
   "id": "0c0e838c",
   "metadata": {},
   "source": []
  },
  {
   "cell_type": "code",
   "execution_count": null,
   "id": "b06e7b8b",
   "metadata": {},
   "outputs": [
    {
     "name": "stdout",
     "output_type": "stream",
     "text": [
      "Hacker21\n",
      "\n",
      "name: Hacker\n",
      " age: 21\n",
      " rating: 4.9\n",
      " is_Active: True\n",
      " Tools: ['nmap', 'wireshack', 'brup']\n",
      "brup\n",
      "['brup', 'wireshack', 'nmap']\n",
      "['nmap', 'wireshack', 'brup']\n",
      "(1, 2, 3, 4, 5, 6, 7, 8, 9, 10)\n",
      "10\n",
      "<class 'int'>\n"
     ]
    }
   ],
   "source": [
    "from graphlib import TopologicalSorter\n",
    "from unittest import result\n",
    "\n",
    "\n",
    "name = \"Hacker\"\n",
    "age = 21\n",
    "rating = 4.9\n",
    "is_Active = True \n",
    "Tools = [\"nmap\", \"wireshack\", \"brup\"]\n",
    "\n",
    "result = name+str(age)\n",
    "print(f\"{result}\\n\")\n",
    "\n",
    "print(f\"name: {name}\\n age: {age}\\n rating: {rating}\\n is_Active: {is_Active}\\n Tools: {Tools}\")\n",
    "print(Tools[-1])\n",
    "# to reverse the list\n",
    "print(Tools[::-1])\n",
    "# first to last\n",
    "print(Tools[0:])\n",
    "#make ten tuples\n",
    "marks = (1,2,3,4,5,6,7,8,9,10)\n",
    "print(marks)\n",
    "# print the last element of tuple\n",
    "print(marks[-1])\n",
    "# print the data type of last element of marks\n",
    "print(type(marks[-1]))\n",
    "\n",
    "\n"
   ]
  },
  {
   "cell_type": "code",
   "execution_count": 38,
   "id": "ce4486b9",
   "metadata": {},
   "outputs": [
    {
     "name": "stdout",
     "output_type": "stream",
     "text": [
      "{'name': 'Ram', 'age': 30, 'city': 'Kathmandu'}\n"
     ]
    }
   ],
   "source": [
    "# make the dictionary \n",
    "person = {\n",
    "    \"name\": \"Ram\",\n",
    "    \"age\": 30,\n",
    "    \"city\": \"Kathmandu\"\n",
    "}\n",
    "print(person)\n"
   ]
  },
  {
   "cell_type": "code",
   "execution_count": null,
   "id": "9e0aa556",
   "metadata": {},
   "outputs": [],
   "source": []
  }
 ],
 "metadata": {
  "kernelspec": {
   "display_name": "base",
   "language": "python",
   "name": "python3"
  },
  "language_info": {
   "codemirror_mode": {
    "name": "ipython",
    "version": 3
   },
   "file_extension": ".py",
   "mimetype": "text/x-python",
   "name": "python",
   "nbconvert_exporter": "python",
   "pygments_lexer": "ipython3",
   "version": "3.12.7"
  }
 },
 "nbformat": 4,
 "nbformat_minor": 5
}
